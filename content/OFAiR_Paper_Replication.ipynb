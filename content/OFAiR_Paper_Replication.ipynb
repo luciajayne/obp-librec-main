{
 "cells": [
  {
   "cell_type": "code",
   "execution_count": 1,
   "id": "a70b63b4",
   "metadata": {},
   "outputs": [],
   "source": [
    "import pandas as pd\n",
    "import numpy as np\n",
    "import datetime as dt"
   ]
  },
  {
   "cell_type": "markdown",
   "id": "586627fd",
   "metadata": {},
   "source": [
    "**Read Datasets**"
   ]
  },
  {
   "cell_type": "code",
   "execution_count": 3,
   "id": "467e78e0",
   "metadata": {},
   "outputs": [],
   "source": [
    "df_movies = pd.read_csv(\"archive/movies_metadata.csv\")\n",
    "df_ratings = pd.read_csv(\"archive/ratings_small.csv\")"
   ]
  },
  {
   "cell_type": "code",
   "execution_count": 4,
   "id": "5d38794f",
   "metadata": {},
   "outputs": [
    {
     "data": {
      "text/plain": [
       "(100004, 4)"
      ]
     },
     "execution_count": 4,
     "metadata": {},
     "output_type": "execute_result"
    }
   ],
   "source": [
    "df_ratings.shape"
   ]
  },
  {
   "cell_type": "code",
   "execution_count": 36,
   "id": "f5904cdf",
   "metadata": {},
   "outputs": [],
   "source": [
    "#reduce number of users\n",
    "#df_ratings = df_ratings[df_ratings.userId <= 50]"
   ]
  },
  {
   "cell_type": "code",
   "execution_count": 5,
   "id": "f017e821",
   "metadata": {},
   "outputs": [
    {
     "data": {
      "text/plain": [
       "(45466, 24)"
      ]
     },
     "execution_count": 5,
     "metadata": {},
     "output_type": "execute_result"
    }
   ],
   "source": [
    "df_movies.shape"
   ]
  },
  {
   "cell_type": "code",
   "execution_count": 6,
   "id": "5b29fb6b",
   "metadata": {},
   "outputs": [
    {
     "data": {
      "text/plain": [
       "(Index(['adult', 'belongs_to_collection', 'budget', 'genres', 'homepage', 'id',\n",
       "        'imdb_id', 'original_language', 'original_title', 'overview',\n",
       "        'popularity', 'poster_path', 'production_companies',\n",
       "        'production_countries', 'release_date', 'revenue', 'runtime',\n",
       "        'spoken_languages', 'status', 'tagline', 'title', 'video',\n",
       "        'vote_average', 'vote_count'],\n",
       "       dtype='object'),\n",
       " adult                     object\n",
       " belongs_to_collection     object\n",
       " budget                    object\n",
       " genres                    object\n",
       " homepage                  object\n",
       " id                        object\n",
       " imdb_id                   object\n",
       " original_language         object\n",
       " original_title            object\n",
       " overview                  object\n",
       " popularity                object\n",
       " poster_path               object\n",
       " production_companies      object\n",
       " production_countries      object\n",
       " release_date              object\n",
       " revenue                  float64\n",
       " runtime                  float64\n",
       " spoken_languages          object\n",
       " status                    object\n",
       " tagline                   object\n",
       " title                     object\n",
       " video                     object\n",
       " vote_average             float64\n",
       " vote_count               float64\n",
       " dtype: object)"
      ]
     },
     "execution_count": 6,
     "metadata": {},
     "output_type": "execute_result"
    }
   ],
   "source": [
    "df_movies.columns,df_movies.dtypes"
   ]
  },
  {
   "cell_type": "code",
   "execution_count": 7,
   "id": "96247ad6",
   "metadata": {},
   "outputs": [
    {
     "name": "stdout",
     "output_type": "stream",
     "text": [
      "missing? 0\n",
      "# above mean 13076\n",
      "# below mean 32389\n"
     ]
    }
   ],
   "source": [
    "#From OFAiR paper\n",
    "# delete this row\n",
    "df_movies.drop(35587, inplace=True)\n",
    "\n",
    "# casting it from str to float\n",
    "df_movies['popularity'] = df_movies['popularity'].astype(float)\n",
    "\n",
    "# calculate mean pop for filling in the missing values\n",
    "mean_pop = (df_movies.loc[df_movies['popularity'].isnull() == False, 'popularity']).mean()\n",
    "\n",
    "# filling the missing value with mean\n",
    "df_movies['popularity'].fillna(mean_pop, inplace=True)\n",
    "\n",
    "# how many missing values?\n",
    "print('missing?', df_movies['popularity'].isnull().sum())\n",
    "\n",
    "print('# above mean', len(df_movies[df_movies['popularity'] >= mean_pop]))\n",
    "print('# below mean', len(df_movies[df_movies['popularity'] < mean_pop]))"
   ]
  },
  {
   "cell_type": "code",
   "execution_count": 8,
   "id": "e65a9c43",
   "metadata": {},
   "outputs": [
    {
     "name": "stdout",
     "output_type": "stream",
     "text": [
      "missing? 0\n",
      "# above mean 4215\n",
      "# below mean 41250\n"
     ]
    }
   ],
   "source": [
    "df_movies['revenue'] = df_movies['revenue'].astype(float)\n",
    "mean_rev = (df_movies.loc[df_movies['revenue'].isnull() == False, 'revenue']).mean()\n",
    "df_movies['revenue'].fillna(mean_rev, inplace=True)\n",
    "print('missing?', df_movies['revenue'].isnull().sum())\n",
    "\n",
    "print('# above mean', len(df_movies[df_movies['revenue'] >= mean_rev]))\n",
    "print('# below mean', len(df_movies[df_movies['revenue'] < mean_rev]))"
   ]
  },
  {
   "cell_type": "code",
   "execution_count": 9,
   "id": "9ffaac51",
   "metadata": {},
   "outputs": [
    {
     "name": "stdout",
     "output_type": "stream",
     "text": [
      "94.12819945578833\n",
      "95.0\n",
      "missing? 0\n",
      "# above mean 23047\n",
      "# below mean 22418\n"
     ]
    }
   ],
   "source": [
    "df_movies['runtime'] = df_movies['runtime'].astype(float)\n",
    "mean_rt = (df_movies.loc[df_movies['runtime'].isnull() == False, 'runtime']).mean()\n",
    "median_rt =(df_movies.loc[df_movies['runtime'].isnull() == False, 'runtime']).median()\n",
    "\n",
    "print (mean_rt)\n",
    "print (median_rt)\n",
    "\n",
    "df_movies['runtime'].fillna(mean_rt, inplace=True)\n",
    "print('missing?', df_movies['runtime'].isnull().sum())\n",
    "\n",
    "print('# above mean', len(df_movies[df_movies['runtime'] >= mean_rt]))\n",
    "print('# below mean', len(df_movies[df_movies['runtime'] < mean_rt]))"
   ]
  },
  {
   "cell_type": "code",
   "execution_count": 10,
   "id": "9fa8f41d",
   "metadata": {},
   "outputs": [
    {
     "name": "stdout",
     "output_type": "stream",
     "text": [
      "missing? 87\n",
      "missing? 0\n"
     ]
    }
   ],
   "source": [
    "print('missing?', df_movies['release_date'].isnull().sum())\n",
    "df_movies.drop(df_movies[df_movies['release_date'].isnull()==True].index.tolist(), inplace=True)\n",
    "df_movies.drop(df_movies[df_movies['release_date'] == '1'].index.tolist(), inplace=True)\n",
    "df_movies.drop(df_movies[df_movies['release_date'] == '12'].index.tolist(), inplace=True)\n",
    "# deleting them!\n",
    "\n",
    "print('missing?', df_movies['release_date'].isnull().sum())"
   ]
  },
  {
   "cell_type": "code",
   "execution_count": 11,
   "id": "d29f9ab5",
   "metadata": {},
   "outputs": [
    {
     "data": {
      "text/plain": [
       "(array(['adult', 'belongs_to_collection', 'budget', 'genres', 'homepage',\n",
       "        'id', 'imdb_id', 'original_language', 'original_title', 'overview',\n",
       "        'popularity', 'poster_path', 'production_companies',\n",
       "        'production_countries', 'release_date', 'revenue', 'runtime',\n",
       "        'spoken_languages', 'status', 'tagline', 'title', 'video',\n",
       "        'vote_average', 'vote_count'], dtype=object),\n",
       " (45376, 24))"
      ]
     },
     "execution_count": 11,
     "metadata": {},
     "output_type": "execute_result"
    }
   ],
   "source": [
    "df_movies.columns.values, df_movies.shape"
   ]
  },
  {
   "cell_type": "code",
   "execution_count": 12,
   "id": "b59db3ec",
   "metadata": {},
   "outputs": [],
   "source": [
    "# original cleaning logic\n",
    "# #Clean the data\n",
    "# df_ratings = df_ratings.drop(\"timestamp\",axis=1)\n",
    "# df_ratings[\"rating\"] = df_ratings[\"rating\"].astype(\"int\")\n",
    "# df_movies = df_movies[df_movies[\"id\"].str.isnumeric()]\n",
    "df_movies[\"id\"] = df_movies[\"id\"].astype(\"int\")\n",
    "\n",
    "# #How should we populate missing dates???\n",
    "# df_movies.release_date = df_movies.release_date.fillna('1989-12-31')\n",
    "# df_movies = df_movies.drop(df_movies[pd.to_datetime(df_movies.release_date,errors=\"coerce\").isna()].index)\n",
    "df_movies.release_date = pd.to_datetime(df_movies.release_date)"
   ]
  },
  {
   "cell_type": "code",
   "execution_count": 13,
   "id": "0f6e5e62",
   "metadata": {},
   "outputs": [],
   "source": [
    "#Merge the two datasets using an inner to prevent orphaned ids??\n",
    "df_movies = df_movies.merge(df_ratings,left_on=\"id\",right_on=\"movieId\",how=\"inner\")"
   ]
  },
  {
   "cell_type": "code",
   "execution_count": 14,
   "id": "9c4bb4b4",
   "metadata": {},
   "outputs": [
    {
     "data": {
      "text/plain": [
       "(44965, 28)"
      ]
     },
     "execution_count": 14,
     "metadata": {},
     "output_type": "execute_result"
    }
   ],
   "source": [
    "df_movies.shape"
   ]
  },
  {
   "cell_type": "code",
   "execution_count": 15,
   "id": "324d87cb",
   "metadata": {},
   "outputs": [],
   "source": [
    "#Only pick movies with 50 rating or over\n",
    "df_rating_count = df_movies.groupby(\"userId\")[\"movieId\"].count()\n",
    "df_rating_count[df_rating_count >= 50].index\n",
    "df_movies = df_movies[df_movies.userId.isin(df_rating_count[df_rating_count >= 50].index)] "
   ]
  },
  {
   "cell_type": "code",
   "execution_count": 16,
   "id": "ebd1caa2",
   "metadata": {},
   "outputs": [],
   "source": [
    "df_ratings = df_movies[[\"userId\",\"movieId\",\"rating\"]].sort_values(by=\"userId\")"
   ]
  },
  {
   "cell_type": "code",
   "execution_count": 17,
   "id": "f2851644",
   "metadata": {},
   "outputs": [],
   "source": [
    "#Create the ratings.csv for librec-auto\n",
    "df_ratings.to_csv(\"ratings.csv\",index=None,header=False)"
   ]
  },
  {
   "cell_type": "code",
   "execution_count": 18,
   "id": "eebf59bd",
   "metadata": {},
   "outputs": [],
   "source": [
    "#creating the protected feature bins\n",
    "avg_vote = df_movies.vote_count.mean()\n",
    "avg_rev = df_movies.revenue.mean()\n",
    "avg_runtime = df_movies.runtime.mean()\n",
    "cutoff_date = dt.datetime.strptime(\"1990\",\"%Y\")"
   ]
  },
  {
   "cell_type": "code",
   "execution_count": 19,
   "id": "6aae79c4",
   "metadata": {},
   "outputs": [],
   "source": [
    "#create dummies for each protected feature\n",
    "df_pop = pd.get_dummies(df_movies.vote_count.transform( lambda x: \"pop\" if x >= avg_vote else \"notpop\"))\n",
    "df_date =  pd.get_dummies(df_movies.release_date.transform( lambda x: \"old\" if x >= cutoff_date else \"new\"))\n",
    "df_rev =  pd.get_dummies(df_movies.revenue.transform( lambda x: \"high\" if x >= avg_rev else \"low\"))\n",
    "df_len =  pd.get_dummies(df_movies.runtime.transform( lambda x: \"long\" if x >= avg_runtime else \"short\"))"
   ]
  },
  {
   "cell_type": "code",
   "execution_count": 20,
   "id": "1727989b",
   "metadata": {},
   "outputs": [
    {
     "data": {
      "text/plain": [
       "(0          949\n",
       " 1          949\n",
       " 2          949\n",
       " 3          949\n",
       " 5          949\n",
       "          ...  \n",
       " 44959     3104\n",
       " 44960    64197\n",
       " 44961    64197\n",
       " 44962    64197\n",
       " 44964    49280\n",
       " Name: id, Length: 34827, dtype: int64,\n",
       "        new  old\n",
       " 0        0    1\n",
       " 1        0    1\n",
       " 2        0    1\n",
       " 3        0    1\n",
       " 5        0    1\n",
       " ...    ...  ...\n",
       " 44959    1    0\n",
       " 44960    0    1\n",
       " 44961    0    1\n",
       " 44962    0    1\n",
       " 44964    1    0\n",
       " \n",
       " [34827 rows x 2 columns])"
      ]
     },
     "execution_count": 20,
     "metadata": {},
     "output_type": "execute_result"
    }
   ],
   "source": [
    "df_movies.id, df_date"
   ]
  },
  {
   "cell_type": "code",
   "execution_count": 21,
   "id": "5cb7e720",
   "metadata": {},
   "outputs": [
    {
     "data": {
      "text/plain": [
       "(278616, 3)"
      ]
     },
     "execution_count": 21,
     "metadata": {},
     "output_type": "execute_result"
    }
   ],
   "source": [
    "#create full item feature table\n",
    "df_item_features = pd.concat([df_movies[\"id\"],df_pop,df_date,df_rev,df_len], axis=1)\n",
    "df_item_features = df_item_features.set_index(\"id\").stack().reset_index()\n",
    "df_item_features.columns = [\"item_id\",\"feature\",\"value\"]\n",
    "df_item_features.shape "
   ]
  },
  {
   "cell_type": "code",
   "execution_count": 22,
   "id": "84fb2938",
   "metadata": {},
   "outputs": [
    {
     "data": {
      "text/plain": [
       "(11024, 3)"
      ]
     },
     "execution_count": 22,
     "metadata": {},
     "output_type": "execute_result"
    }
   ],
   "source": [
    "df_item_features = df_item_features[df_item_features.value == 1]\n",
    "df_item_features = df_item_features.drop_duplicates()\n",
    "df_item_features.shape"
   ]
  },
  {
   "cell_type": "code",
   "execution_count": 55,
   "id": "dabbd778",
   "metadata": {},
   "outputs": [],
   "source": [
    "#Remove duplicates\n",
    "# df_item_features = df_item_features[~df_item_features.duplicated()]\n",
    "# df_item_features[~df_item_features.duplicated()].shape,df_item_features[df_item_features.duplicated()].shape"
   ]
  },
  {
   "cell_type": "code",
   "execution_count": 23,
   "id": "9e6760bc",
   "metadata": {},
   "outputs": [],
   "source": [
    "#Single out specifc feature\n",
    "df_item_features = df_item_features[(df_item_features[\"feature\"]=='old') | (df_item_features[\"feature\"]=='new') ]\n"
   ]
  },
  {
   "cell_type": "code",
   "execution_count": 24,
   "id": "c9588fd2",
   "metadata": {},
   "outputs": [],
   "source": [
    "df_item_features.to_csv(\"item-features.csv\",header=False,index=None)"
   ]
  },
  {
   "cell_type": "code",
   "execution_count": null,
   "id": "32259191",
   "metadata": {},
   "outputs": [],
   "source": []
  },
  {
   "cell_type": "code",
   "execution_count": null,
   "id": "13db7aa3",
   "metadata": {},
   "outputs": [],
   "source": []
  },
  {
   "cell_type": "code",
   "execution_count": null,
   "id": "c043e513",
   "metadata": {},
   "outputs": [],
   "source": []
  }
 ],
 "metadata": {
  "kernelspec": {
   "display_name": "Python 3 (ipykernel)",
   "language": "python",
   "name": "python3"
  },
  "language_info": {
   "codemirror_mode": {
    "name": "ipython",
    "version": 3
   },
   "file_extension": ".py",
   "mimetype": "text/x-python",
   "name": "python",
   "nbconvert_exporter": "python",
   "pygments_lexer": "ipython3",
   "version": "3.9.7"
  }
 },
 "nbformat": 4,
 "nbformat_minor": 5
}
